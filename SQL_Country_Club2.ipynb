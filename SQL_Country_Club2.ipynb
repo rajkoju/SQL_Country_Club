{
 "cells": [
  {
   "cell_type": "code",
   "execution_count": 1,
   "metadata": {},
   "outputs": [],
   "source": [
    "import sqlite3\n",
    "from sqlite3 import *\n",
    "import pandas as pd\n",
    "import sys\n",
    "import os"
   ]
  },
  {
   "cell_type": "code",
   "execution_count": 2,
   "metadata": {},
   "outputs": [],
   "source": [
    "os.chdir('/Users/raj/Downloads/SQLFiles Tier 2')\n",
    "database='sqlite_db_pythonsqlite.db'"
   ]
  },
  {
   "cell_type": "code",
   "execution_count": 3,
   "metadata": {},
   "outputs": [],
   "source": [
    "conn=sqlite3.connect(database)\n",
    "cur=conn.cursor()"
   ]
  },
  {
   "cell_type": "code",
   "execution_count": 4,
   "metadata": {},
   "outputs": [
    {
     "name": "stdout",
     "output_type": "stream",
     "text": [
      "[('Bookings',), ('Facilities',), ('Members',)]\n",
      " \n",
      "\n"
     ]
    }
   ],
   "source": [
    "query0=\"\"\"\n",
    "        SELECT name FROM sqlite_master WHERE type='table' ;\n",
    "        \"\"\"\n",
    "cur.execute(query0)\n",
    "rows =cur.fetchall()\n",
    "cur.fetchone()\n",
    "print(rows)\n",
    "print(\" \\n\")"
   ]
  },
  {
   "cell_type": "code",
   "execution_count": 5,
   "metadata": {},
   "outputs": [
    {
     "name": "stdout",
     "output_type": "stream",
     "text": [
      "[('memid',), ('surname',), ('firstname',), ('address',), ('zipcode',), ('telephone',), ('recommendedby',), ('joindate',)]\n",
      " \n",
      "\n",
      "[('bookid',), ('facid',), ('memid',), ('starttime',), ('slots',)]\n",
      " \n",
      "\n",
      "[('facid',), ('name',), ('membercost',), ('guestcost',), ('initialoutlay',), ('monthlymaintenance',)]\n",
      " \n",
      "\n"
     ]
    }
   ],
   "source": [
    "query01=\"\"\"\n",
    "        SELECT name FROM PRAGMA_TABLE_INFO('Members');\n",
    "        \"\"\"\n",
    "cur.execute(query01)\n",
    "rows1 =cur.fetchall()\n",
    "print(rows1)\n",
    "print(\" \\n\")\n",
    "query02=\"\"\"\n",
    "        SELECT name FROM PRAGMA_TABLE_INFO('Bookings');\n",
    "        \"\"\"\n",
    "cur.execute(query02)\n",
    "rows1 =cur.fetchall()\n",
    "print(rows1)\n",
    "print(\" \\n\")\n",
    "query03=\"\"\"\n",
    "        SELECT name FROM PRAGMA_TABLE_INFO('Facilities');\n",
    "        \"\"\"\n",
    "cur.execute(query03)\n",
    "rows1 =cur.fetchall()\n",
    "print(rows1)\n",
    "print(\" \\n\")\n"
   ]
  },
  {
   "cell_type": "markdown",
   "metadata": {},
   "source": [
    "Q1: Some of the facilities charge a fee to members, but some do not.\n",
    "Write a SQL query to produce a list of the names of the facilities that do."
   ]
  },
  {
   "cell_type": "code",
   "execution_count": 6,
   "metadata": {},
   "outputs": [
    {
     "name": "stdout",
     "output_type": "stream",
     "text": [
      "name\n",
      "('Tennis Court 1',)\n",
      "('Tennis Court 2',)\n",
      "('Massage Room 1',)\n",
      "('Massage Room 2',)\n",
      "('Squash Court',)\n"
     ]
    }
   ],
   "source": [
    "query1=\"\"\"\n",
    "SELECT name FROM `Facilities` where membercost>0 ;   \n",
    "\"\"\"\n",
    "cur.execute(query1)\n",
    "rows=cur.fetchall()\n",
    "print(\"name\")\n",
    "for row in rows:\n",
    "    print(row)"
   ]
  },
  {
   "cell_type": "markdown",
   "metadata": {},
   "source": [
    "Q2: How many facilities do not charge a fee to members?"
   ]
  },
  {
   "cell_type": "code",
   "execution_count": 7,
   "metadata": {},
   "outputs": [
    {
     "name": "stdout",
     "output_type": "stream",
     "text": [
      "count\n",
      "(4,)\n"
     ]
    }
   ],
   "source": [
    "query2=\"\"\"\n",
    "SELECT count(name) FROM `Facilities` where membercost=0 ;   \n",
    "\"\"\"\n",
    "cur.execute(query2)\n",
    "rows=cur.fetchall()\n",
    "print(\"count\")\n",
    "for row in rows:\n",
    "    print(row)"
   ]
  },
  {
   "cell_type": "markdown",
   "metadata": {},
   "source": [
    "Q3: Write an SQL query to show a list of facilities that charge a fee to members,\n",
    "where the fee is less than 20% of the facility's monthly maintenance cost.\n",
    "Return the facid, facility name, member cost, and monthly maintenance of the\n",
    "facilities in question."
   ]
  },
  {
   "cell_type": "code",
   "execution_count": 8,
   "metadata": {},
   "outputs": [
    {
     "name": "stdout",
     "output_type": "stream",
     "text": [
      "facid, name, membercost, monthlymaintenance\n",
      "(0, 'Tennis Court 1', 5, 200)\n",
      "(1, 'Tennis Court 2', 5, 200)\n",
      "(4, 'Massage Room 1', 9.9, 3000)\n",
      "(5, 'Massage Room 2', 9.9, 3000)\n",
      "(6, 'Squash Court', 3.5, 80)\n"
     ]
    }
   ],
   "source": [
    "query3=\"\"\"\n",
    "SELECT facid, name, membercost, monthlymaintenance FROM `Facilities` where membercost>0 \n",
    "and membercost<0.2*monthlymaintenance ; \n",
    "\"\"\"\n",
    "cur.execute(query3)\n",
    "rows=cur.fetchall()\n",
    "print(\"facid, name, membercost, monthlymaintenance\")\n",
    "for row in rows:\n",
    "    print(row)"
   ]
  },
  {
   "cell_type": "markdown",
   "metadata": {},
   "source": [
    "Q4: Write an SQL query to retrieve the details of facilities with ID 1 and 5.\n",
    "Try writing the query without using the OR operator."
   ]
  },
  {
   "cell_type": "code",
   "execution_count": 9,
   "metadata": {},
   "outputs": [
    {
     "name": "stdout",
     "output_type": "stream",
     "text": [
      "bookid, facid, memid, starttime, slots\n",
      "(1, 'Tennis Court 2', 5, 25, 8000, 200)\n",
      "(5, 'Massage Room 2', 9.9, 80, 4000, 3000)\n"
     ]
    }
   ],
   "source": [
    "query4=\"\"\"\n",
    "SELECT * FROM `Facilities` where facid in (1,5);\n",
    "\"\"\"\n",
    "cur.execute(query4)\n",
    "rows=cur.fetchall()\n",
    "print(\"bookid, facid, memid, starttime, slots\")\n",
    "for row in rows:\n",
    "    print(row)"
   ]
  },
  {
   "cell_type": "markdown",
   "metadata": {},
   "source": [
    "Q5: Produce a list of facilities, with each labelled as\n",
    "'cheap' or 'expensive', depending on if their monthly maintenance cost is\n",
    "more than $100. Return the name and monthly maintenance of the facilities\n",
    "in question."
   ]
  },
  {
   "cell_type": "code",
   "execution_count": 10,
   "metadata": {},
   "outputs": [
    {
     "name": "stdout",
     "output_type": "stream",
     "text": [
      "name, monthlymaintenance, cost\n",
      "('Tennis Court 1', 200, 'expensive')\n",
      "('Tennis Court 2', 200, 'expensive')\n",
      "('Badminton Court', 50, 'cheap')\n",
      "('Table Tennis', 10, 'cheap')\n",
      "('Massage Room 1', 3000, 'expensive')\n",
      "('Massage Room 2', 3000, 'expensive')\n",
      "('Squash Court', 80, 'cheap')\n",
      "('Snooker Table', 15, 'cheap')\n",
      "('Pool Table', 15, 'cheap')\n"
     ]
    }
   ],
   "source": [
    "query5=\"\"\"\n",
    "SELECT name, monthlymaintenance, CASE WHEN monthlymaintenance > 100 THEN 'expensive' \n",
    "ELSE 'cheap' END as cost FROM `Facilities` ;\n",
    "\"\"\"\n",
    "cur.execute(query5)\n",
    "rows=cur.fetchall()\n",
    "print(\"name, monthlymaintenance, cost\")\n",
    "for row in rows:\n",
    "    print(row)\n"
   ]
  },
  {
   "cell_type": "markdown",
   "metadata": {},
   "source": [
    "Q6: You'd like to get the first and last name of the last member(s)\n",
    "who signed up. Try not to use the LIMIT clause for your solution."
   ]
  },
  {
   "cell_type": "code",
   "execution_count": 11,
   "metadata": {},
   "outputs": [
    {
     "name": "stdout",
     "output_type": "stream",
     "text": [
      "firstname, surname\n",
      "('Darren', 'Smith')\n"
     ]
    }
   ],
   "source": [
    "query6=\"\"\"\n",
    "SELECT  firstname, surname  FROM `Members` where joindate=(SELECT max(joindate) FROM `Members`) ;\n",
    "\"\"\"\n",
    "cur.execute(query6)\n",
    "rows=cur.fetchall()\n",
    "print(\"firstname, surname\")\n",
    "for row in rows:\n",
    "    print(row)"
   ]
  },
  {
   "cell_type": "markdown",
   "metadata": {},
   "source": [
    "Q7: Produce a list of all members who have used a tennis court.\n",
    "Include in your output the name of the court, and the name of the member\n",
    "formatted as a single column. Ensure no duplicate data, and order by\n",
    "the member name."
   ]
  },
  {
   "cell_type": "code",
   "execution_count": 12,
   "metadata": {},
   "outputs": [
    {
     "name": "stdout",
     "output_type": "stream",
     "text": [
      "membername,facility\n",
      "('Anne Baker', 'Tennis Court 1')\n",
      "('Anne Baker', 'Tennis Court 2')\n",
      "('Burton Tracy', 'Tennis Court 1')\n",
      "('Burton Tracy', 'Tennis Court 2')\n",
      "('Charles Owen', 'Tennis Court 1')\n",
      "('Charles Owen', 'Tennis Court 2')\n",
      "('Darren Smith', 'Tennis Court 2')\n",
      "('David Farrell', 'Tennis Court 1')\n",
      "('David Farrell', 'Tennis Court 2')\n",
      "('David Jones', 'Tennis Court 1')\n",
      "('David Jones', 'Tennis Court 2')\n",
      "('David Pinker', 'Tennis Court 1')\n",
      "('Douglas Jones', 'Tennis Court 1')\n",
      "('Erica Crumpet', 'Tennis Court 1')\n",
      "('Florence Bader', 'Tennis Court 1')\n",
      "('Florence Bader', 'Tennis Court 2')\n",
      "('GUEST GUEST', 'Tennis Court 1')\n",
      "('GUEST GUEST', 'Tennis Court 2')\n",
      "('Gerald Butters', 'Tennis Court 1')\n",
      "('Gerald Butters', 'Tennis Court 2')\n",
      "('Henrietta Rumney', 'Tennis Court 2')\n",
      "('Jack Smith', 'Tennis Court 1')\n",
      "('Jack Smith', 'Tennis Court 2')\n",
      "('Janice Joplette', 'Tennis Court 1')\n",
      "('Janice Joplette', 'Tennis Court 2')\n",
      "('Jemima Farrell', 'Tennis Court 1')\n",
      "('Jemima Farrell', 'Tennis Court 2')\n",
      "('Joan Coplin', 'Tennis Court 1')\n",
      "('John Hunt', 'Tennis Court 1')\n",
      "('John Hunt', 'Tennis Court 2')\n",
      "('Matthew Genting', 'Tennis Court 1')\n",
      "('Millicent Purview', 'Tennis Court 2')\n",
      "('Nancy Dare', 'Tennis Court 1')\n",
      "('Nancy Dare', 'Tennis Court 2')\n",
      "('Ponder Stibbons', 'Tennis Court 1')\n",
      "('Ponder Stibbons', 'Tennis Court 2')\n",
      "('Ramnaresh Sarwin', 'Tennis Court 1')\n",
      "('Ramnaresh Sarwin', 'Tennis Court 2')\n",
      "('Tim Boothe', 'Tennis Court 1')\n",
      "('Tim Boothe', 'Tennis Court 2')\n",
      "('Tim Rownam', 'Tennis Court 1')\n",
      "('Tim Rownam', 'Tennis Court 2')\n",
      "('Timothy Baker', 'Tennis Court 1')\n",
      "('Timothy Baker', 'Tennis Court 2')\n",
      "('Tracy Smith', 'Tennis Court 1')\n",
      "('Tracy Smith', 'Tennis Court 2')\n"
     ]
    }
   ],
   "source": [
    "query7=\"\"\"\n",
    "SELECT  distinct firstname ||' ' || surname  as membername, name as facility From `Members`  \n",
    "join `Bookings` on Members.memid=Bookings.memid join `Facilities` \n",
    "on Bookings.facid=Facilities.facid where name like 'Tennis%' order by membername, facility; \n",
    "\"\"\"\n",
    "cur.execute(query7)\n",
    "rows=cur.fetchall()\n",
    "print(\"membername,facility\")\n",
    "for row in rows:\n",
    "    print(row)"
   ]
  },
  {
   "cell_type": "markdown",
   "metadata": {},
   "source": [
    "Q8: Produce a list of bookings on the day of 2012-09-14 which\n",
    "will cost the member (or guest) more than $30. Remember that guests have\n",
    "different costs to members (the listed costs are per half-hour 'slot'), and\n",
    "the guest user's ID is always 0. Include in your output the name of the\n",
    "facility, the name of the member formatted as a single column, and the cost.\n",
    "Order by descending cost, and do not use any subqueries."
   ]
  },
  {
   "cell_type": "code",
   "execution_count": 13,
   "metadata": {},
   "outputs": [
    {
     "name": "stdout",
     "output_type": "stream",
     "text": [
      "facility, membername, cost\n",
      "('Massage Room 2', 'GUEST GUEST', 640)\n",
      "('Massage Room 1', 'GUEST GUEST', 320)\n",
      "('Massage Room 1', 'GUEST GUEST', 320)\n",
      "('Massage Room 1', 'GUEST GUEST', 320)\n",
      "('Tennis Court 2', 'GUEST GUEST', 300)\n",
      "('Tennis Court 1', 'GUEST GUEST', 150)\n",
      "('Tennis Court 1', 'GUEST GUEST', 150)\n",
      "('Tennis Court 2', 'GUEST GUEST', 150)\n",
      "('Squash Court', 'GUEST GUEST', 140.0)\n",
      "('Massage Room 1', 'Jemima Farrell', 79.2)\n",
      "('Squash Court', 'GUEST GUEST', 70.0)\n",
      "('Squash Court', 'GUEST GUEST', 70.0)\n",
      "('Tennis Court 2', 'David Jones', 60)\n",
      "('Tennis Court 2', 'Tim Boothe', 60)\n",
      "('Massage Room 1', 'Jack Smith', 39.6)\n",
      "('Massage Room 1', 'Jemima Farrell', 39.6)\n",
      "('Massage Room 1', 'Ponder Stibbons', 39.6)\n",
      "('Massage Room 1', 'Burton Tracy', 39.6)\n",
      "('Massage Room 1', 'Matthew Genting', 39.6)\n",
      "('Massage Room 2', 'Florence Bader', 39.6)\n"
     ]
    }
   ],
   "source": [
    "query8=\"\"\"\n",
    "SELECT  name as facility, firstname ||' ' || surname as membername,   \n",
    "CASE WHEN Members.memid=0 THEN guestcost*slots*2 ELSE membercost*slots*2 END \n",
    "as cost  From `Members`  join `Bookings` on Members.memid=Bookings.memid \n",
    "join `Facilities` on Bookings.facid=Facilities.facid where starttime \n",
    "like '2012-09-14%' and ((Members.memid!=0 and membercost*slots*2 >30) \n",
    "or (Members.memid=0 and guestcost*slots*2 >30)) order by cost desc;\n",
    "\"\"\"\n",
    "cur.execute(query8)\n",
    "rows=cur.fetchall()\n",
    "print(\"facility, membername, cost\")\n",
    "for row in rows:\n",
    "    print(row)"
   ]
  },
  {
   "cell_type": "markdown",
   "metadata": {},
   "source": [
    "Q9: This time, produce the same result as in Q8, but using a subquery. "
   ]
  },
  {
   "cell_type": "code",
   "execution_count": 14,
   "metadata": {},
   "outputs": [
    {
     "name": "stdout",
     "output_type": "stream",
     "text": [
      "facility, membername, cost\n",
      "('Massage Room 2', 'GUEST GUEST', 640)\n",
      "('Massage Room 1', 'GUEST GUEST', 320)\n",
      "('Massage Room 1', 'GUEST GUEST', 320)\n",
      "('Massage Room 1', 'GUEST GUEST', 320)\n",
      "('Tennis Court 2', 'GUEST GUEST', 300)\n",
      "('Tennis Court 1', 'GUEST GUEST', 150)\n",
      "('Tennis Court 1', 'GUEST GUEST', 150)\n",
      "('Tennis Court 2', 'GUEST GUEST', 150)\n",
      "('Squash Court', 'GUEST GUEST', 140.0)\n",
      "('Massage Room 1', 'Jemima Farrell', 79.2)\n",
      "('Squash Court', 'GUEST GUEST', 70.0)\n",
      "('Squash Court', 'GUEST GUEST', 70.0)\n",
      "('Tennis Court 2', 'David Jones', 60)\n",
      "('Tennis Court 2', 'Tim Boothe', 60)\n",
      "('Massage Room 1', 'Jack Smith', 39.6)\n",
      "('Massage Room 1', 'Jemima Farrell', 39.6)\n",
      "('Massage Room 1', 'Ponder Stibbons', 39.6)\n",
      "('Massage Room 1', 'Burton Tracy', 39.6)\n",
      "('Massage Room 1', 'Matthew Genting', 39.6)\n",
      "('Massage Room 2', 'Florence Bader', 39.6)\n"
     ]
    }
   ],
   "source": [
    "query9=\"\"\"\n",
    "SELECT  facility, membername, cost from (\n",
    "SELECT  name as facility, firstname ||' ' || surname as membername, Members.memid, slots, membercost, guestcost,  \n",
    "CASE WHEN Members.memid=0 THEN guestcost*slots*2 \n",
    "ELSE membercost*slots*2 END as cost  From `Members`  join `Bookings` \n",
    "on Members.memid=Bookings.memid \n",
    "join `Facilities` on Bookings.facid=Facilities.facid \n",
    "where starttime like '2012-09-14%' ) as bookings_info \n",
    "where cost > 30 order by cost desc; \n",
    "\"\"\"\n",
    "cur.execute(query9)\n",
    "rows=cur.fetchall()\n",
    "print(\"facility, membername, cost\")\n",
    "for row in rows:\n",
    "    print(row)"
   ]
  },
  {
   "cell_type": "markdown",
   "metadata": {},
   "source": [
    "Q10: Produce a list of facilities with a total revenue less than 1000.\n",
    "The output of facility name and total revenue, sorted by revenue. Remember\n",
    "that there's a different cost for guests and members!"
   ]
  },
  {
   "cell_type": "code",
   "execution_count": 15,
   "metadata": {},
   "outputs": [
    {
     "name": "stdout",
     "output_type": "stream",
     "text": [
      "facility, revenue\n",
      "('Table Tennis', 360)\n",
      "('Snooker Table', 480)\n",
      "('Pool Table', 540)\n"
     ]
    }
   ],
   "source": [
    "query10=\"\"\"\n",
    "SELECT  name as facility, sum(CASE WHEN Bookings.memid=0 THEN guestcost*slots*2 \n",
    "ELSE membercost*slots*2 END) as revenue From `Bookings`  join `Facilities` \n",
    "on Bookings.facid=Facilities.facid group by facility having revenue <1000 order by revenue;\n",
    "\"\"\"\n",
    "cur.execute(query10)\n",
    "rows=cur.fetchall()\n",
    "print(\"facility, revenue\")\n",
    "for row in rows:\n",
    "    print(row)"
   ]
  },
  {
   "cell_type": "markdown",
   "metadata": {},
   "source": [
    "Q11: Produce a report of members and who recommended them in alphabetic surname,firstname order "
   ]
  },
  {
   "cell_type": "code",
   "execution_count": 16,
   "metadata": {},
   "outputs": [
    {
     "name": "stdout",
     "output_type": "stream",
     "text": [
      "member, recommender\n",
      "('Anna Mackenzie', 'Darren Smith')\n",
      "('Anne Baker', 'Ponder Stibbons')\n",
      "('Burton Tracy', None)\n",
      "('Charles Owen', 'Darren Smith')\n",
      "('Darren Smith', None)\n",
      "('David Farrell', None)\n",
      "('David Jones', 'Janice Joplette')\n",
      "('David Pinker', 'Jemima Farrell')\n",
      "('Douglas Jones', 'David Jones')\n",
      "('Erica Crumpet', 'Tracy Smith')\n",
      "('Florence Bader', 'Ponder Stibbons')\n",
      "('GUEST GUEST', None)\n",
      "('Gerald Butters', 'Darren Smith')\n",
      "('Henrietta Rumney', 'Matthew Genting')\n",
      "('Henry Worthington-Smyth', 'Tracy Smith')\n",
      "('Hyacinth Tupperware', None)\n",
      "('Jack Smith', 'Darren Smith')\n",
      "('Janice Joplette', 'Darren Smith')\n",
      "('Jemima Farrell', None)\n",
      "('Joan Coplin', 'Timothy Baker')\n",
      "('John Hunt', 'Millicent Purview')\n",
      "('Matthew Genting', 'Gerald Butters')\n",
      "('Millicent Purview', 'Tracy Smith')\n",
      "('Nancy Dare', 'Janice Joplette')\n",
      "('Ponder Stibbons', 'Burton Tracy')\n",
      "('Ramnaresh Sarwin', 'Florence Bader')\n",
      "('Tim Boothe', 'Tim Rownam')\n",
      "('Tim Rownam', None)\n",
      "('Timothy Baker', 'Jemima Farrell')\n",
      "('Tracy Smith', None)\n"
     ]
    }
   ],
   "source": [
    "query11=\"\"\"\n",
    "         SELECT distinct firstname ||' ' ||  surname as member, (select CASE WHEN b.memid=0 THEN ' ' ELSE firstname ||' ' ||  surname END as recommender FROM `Members` b where a.recommendedby=b.memid ) as recommender from `Members` a order by member ;\n",
    "        \"\"\"\n",
    "cur.execute(query11)\n",
    "rows=cur.fetchall()\n",
    "print(\"member, recommender\")\n",
    "for row in rows:\n",
    "    print(row)"
   ]
  },
  {
   "cell_type": "markdown",
   "metadata": {},
   "source": [
    "Q12: Find the facilities with their usage by member, but not guests"
   ]
  },
  {
   "cell_type": "code",
   "execution_count": 17,
   "metadata": {},
   "outputs": [
    {
     "name": "stdout",
     "output_type": "stream",
     "text": [
      "facility,No_of_members\n",
      "('Badminton Court', 24)\n",
      "('Massage Room 1', 24)\n",
      "('Massage Room 2', 12)\n",
      "('Pool Table', 27)\n",
      "('Snooker Table', 22)\n",
      "('Squash Court', 24)\n",
      "('Table Tennis', 25)\n",
      "('Tennis Court 1', 23)\n",
      "('Tennis Court 2', 21)\n"
     ]
    }
   ],
   "source": [
    "query12=\"\"\"\n",
    "        SELECT  a.facility, count(a.membername) as No_of_members from \n",
    "        (SELECT  distinct name as facility, firstname ||' ' ||  surname as membername  From `Members`  \n",
    "        join `Bookings` on Members.memid=Bookings.memid join `Facilities` \n",
    "        on Bookings.facid=Facilities.facid \n",
    "        where Members.memid!=0 order by membername, facility ) as a group by facility; \n",
    "        \"\"\"\n",
    "cur.execute(query12)\n",
    "rows = cur.fetchall()\n",
    "print(\"facility,No_of_members\")\n",
    "for row in rows:\n",
    "    print(row)  \n"
   ]
  },
  {
   "cell_type": "markdown",
   "metadata": {},
   "source": [
    "Q13: Find the facilities usage by month, but not guests "
   ]
  },
  {
   "cell_type": "code",
   "execution_count": 18,
   "metadata": {},
   "outputs": [
    {
     "name": "stdout",
     "output_type": "stream",
     "text": [
      "facility,month,facility_usage\n",
      "('Badminton Court', '07', 51)\n",
      "('Massage Room 1', '07', 77)\n",
      "('Massage Room 2', '07', 4)\n",
      "('Pool Table', '07', 103)\n",
      "('Snooker Table', '07', 68)\n",
      "('Squash Court', '07', 23)\n",
      "('Table Tennis', '07', 48)\n",
      "('Tennis Court 1', '07', 65)\n",
      "('Tennis Court 2', '07', 41)\n",
      "('Badminton Court', '08', 132)\n",
      "('Massage Room 1', '08', 153)\n",
      "('Massage Room 2', '08', 9)\n",
      "('Pool Table', '08', 272)\n",
      "('Snooker Table', '08', 154)\n",
      "('Squash Court', '08', 85)\n",
      "('Table Tennis', '08', 143)\n",
      "('Tennis Court 1', '08', 111)\n",
      "('Tennis Court 2', '08', 109)\n",
      "('Badminton Court', '09', 161)\n",
      "('Massage Room 1', '09', 191)\n",
      "('Massage Room 2', '09', 14)\n",
      "('Pool Table', '09', 408)\n",
      "('Snooker Table', '09', 199)\n",
      "('Squash Court', '09', 87)\n",
      "('Table Tennis', '09', 194)\n",
      "('Tennis Court 1', '09', 132)\n",
      "('Tennis Court 2', '09', 126)\n"
     ]
    }
   ],
   "source": [
    "query13=\"\"\"\n",
    "         select name as facility, a.month, count(name) as facility_usage from `Facilities` join (SELECT facid, strftime('%m',starttime) as month, starttime  from `Bookings` where Bookings.memid!=0) as a on a.facid=Facilities.facid group by a.month, facility ;\n",
    "        \"\"\"\n",
    "cur.execute(query13)\n",
    "rows = cur.fetchall()\n",
    "print(\"facility,month,facility_usage\")\n",
    "for row in rows:\n",
    "    print(row)"
   ]
  }
 ],
 "metadata": {
  "kernelspec": {
   "display_name": "Python 3",
   "language": "python",
   "name": "python3"
  },
  "language_info": {
   "codemirror_mode": {
    "name": "ipython",
    "version": 3
   },
   "file_extension": ".py",
   "mimetype": "text/x-python",
   "name": "python",
   "nbconvert_exporter": "python",
   "pygments_lexer": "ipython3",
   "version": "3.7.6"
  }
 },
 "nbformat": 4,
 "nbformat_minor": 4
}
